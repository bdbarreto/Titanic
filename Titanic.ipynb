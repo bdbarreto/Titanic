{
 "cells": [
  {
   "cell_type": "code",
   "execution_count": 71,
   "metadata": {},
   "outputs": [
    {
     "data": {
      "text/html": [
       "<div>\n",
       "<style scoped>\n",
       "    .dataframe tbody tr th:only-of-type {\n",
       "        vertical-align: middle;\n",
       "    }\n",
       "\n",
       "    .dataframe tbody tr th {\n",
       "        vertical-align: top;\n",
       "    }\n",
       "\n",
       "    .dataframe thead th {\n",
       "        text-align: right;\n",
       "    }\n",
       "</style>\n",
       "<table border=\"1\" class=\"dataframe\">\n",
       "  <thead>\n",
       "    <tr style=\"text-align: right;\">\n",
       "      <th></th>\n",
       "      <th>PassengerId</th>\n",
       "      <th>Survived</th>\n",
       "      <th>Pclass</th>\n",
       "      <th>Name</th>\n",
       "      <th>Sex</th>\n",
       "      <th>Age</th>\n",
       "      <th>SibSp</th>\n",
       "      <th>Parch</th>\n",
       "      <th>Ticket</th>\n",
       "      <th>Fare</th>\n",
       "      <th>Cabin</th>\n",
       "      <th>Embarked</th>\n",
       "    </tr>\n",
       "  </thead>\n",
       "  <tbody>\n",
       "    <tr>\n",
       "      <th>0</th>\n",
       "      <td>1</td>\n",
       "      <td>0</td>\n",
       "      <td>3</td>\n",
       "      <td>Braund, Mr. Owen Harris</td>\n",
       "      <td>male</td>\n",
       "      <td>22.0</td>\n",
       "      <td>1</td>\n",
       "      <td>0</td>\n",
       "      <td>A/5 21171</td>\n",
       "      <td>7.2500</td>\n",
       "      <td>NaN</td>\n",
       "      <td>S</td>\n",
       "    </tr>\n",
       "    <tr>\n",
       "      <th>1</th>\n",
       "      <td>2</td>\n",
       "      <td>1</td>\n",
       "      <td>1</td>\n",
       "      <td>Cumings, Mrs. John Bradley (Florence Briggs Th...</td>\n",
       "      <td>female</td>\n",
       "      <td>38.0</td>\n",
       "      <td>1</td>\n",
       "      <td>0</td>\n",
       "      <td>PC 17599</td>\n",
       "      <td>71.2833</td>\n",
       "      <td>C85</td>\n",
       "      <td>C</td>\n",
       "    </tr>\n",
       "    <tr>\n",
       "      <th>2</th>\n",
       "      <td>3</td>\n",
       "      <td>1</td>\n",
       "      <td>3</td>\n",
       "      <td>Heikkinen, Miss. Laina</td>\n",
       "      <td>female</td>\n",
       "      <td>26.0</td>\n",
       "      <td>0</td>\n",
       "      <td>0</td>\n",
       "      <td>STON/O2. 3101282</td>\n",
       "      <td>7.9250</td>\n",
       "      <td>NaN</td>\n",
       "      <td>S</td>\n",
       "    </tr>\n",
       "    <tr>\n",
       "      <th>3</th>\n",
       "      <td>4</td>\n",
       "      <td>1</td>\n",
       "      <td>1</td>\n",
       "      <td>Futrelle, Mrs. Jacques Heath (Lily May Peel)</td>\n",
       "      <td>female</td>\n",
       "      <td>35.0</td>\n",
       "      <td>1</td>\n",
       "      <td>0</td>\n",
       "      <td>113803</td>\n",
       "      <td>53.1000</td>\n",
       "      <td>C123</td>\n",
       "      <td>S</td>\n",
       "    </tr>\n",
       "    <tr>\n",
       "      <th>4</th>\n",
       "      <td>5</td>\n",
       "      <td>0</td>\n",
       "      <td>3</td>\n",
       "      <td>Allen, Mr. William Henry</td>\n",
       "      <td>male</td>\n",
       "      <td>35.0</td>\n",
       "      <td>0</td>\n",
       "      <td>0</td>\n",
       "      <td>373450</td>\n",
       "      <td>8.0500</td>\n",
       "      <td>NaN</td>\n",
       "      <td>S</td>\n",
       "    </tr>\n",
       "  </tbody>\n",
       "</table>\n",
       "</div>"
      ],
      "text/plain": [
       "   PassengerId  Survived  Pclass  \\\n",
       "0            1         0       3   \n",
       "1            2         1       1   \n",
       "2            3         1       3   \n",
       "3            4         1       1   \n",
       "4            5         0       3   \n",
       "\n",
       "                                                Name     Sex   Age  SibSp  \\\n",
       "0                            Braund, Mr. Owen Harris    male  22.0      1   \n",
       "1  Cumings, Mrs. John Bradley (Florence Briggs Th...  female  38.0      1   \n",
       "2                             Heikkinen, Miss. Laina  female  26.0      0   \n",
       "3       Futrelle, Mrs. Jacques Heath (Lily May Peel)  female  35.0      1   \n",
       "4                           Allen, Mr. William Henry    male  35.0      0   \n",
       "\n",
       "   Parch            Ticket     Fare Cabin Embarked  \n",
       "0      0         A/5 21171   7.2500   NaN        S  \n",
       "1      0          PC 17599  71.2833   C85        C  \n",
       "2      0  STON/O2. 3101282   7.9250   NaN        S  \n",
       "3      0            113803  53.1000  C123        S  \n",
       "4      0            373450   8.0500   NaN        S  "
      ]
     },
     "execution_count": 71,
     "metadata": {},
     "output_type": "execute_result"
    }
   ],
   "source": [
    "# carregue os conjuntos de dados\n",
    "import pandas as pd\n",
    "import seaborn as sns\n",
    "import matplotlib.pyplot as plt\n",
    "\n",
    "%matplotlib inline\n",
    "\n",
    "titanic = pd.read_csv('titanic_data.csv')\n",
    "# primeiras linhas\n",
    "titanic.head()"
   ]
  },
  {
   "cell_type": "markdown",
   "metadata": {},
   "source": [
    "# Descrição das colunas"
   ]
  },
  {
   "cell_type": "markdown",
   "metadata": {},
   "source": [
    "Survived: Diz se o passageiro sobreviveu (0 = Não; 1 = Sim)\n",
    "Pclass: Classe socio-econômica do passageiro (1 = Classe Alta; 2 = Classe Média; 3 = Classe Baixa)\n",
    "Name: Nome do passageiro\n",
    "Sex: Sexo do Passageiro\n",
    "Age: Idade do passageiro\n",
    "SibSp: Número de irmãos e cônjuges a bordo\n",
    "Parch: Número de pais e filhos a bordo\n",
    "Ticket: Número do ticket do passageiro\n",
    "Fare: Tarifa paga pelo passageiro\n",
    "Cabin: Número da cabine\n",
    "Embarked: Porta de embarcação (C = Cherbourg; Q = Queenstown; S = Southampton)"
   ]
  },
  {
   "cell_type": "code",
   "execution_count": 43,
   "metadata": {
    "scrolled": false
   },
   "outputs": [
    {
     "data": {
      "text/html": [
       "<div>\n",
       "<style scoped>\n",
       "    .dataframe tbody tr th:only-of-type {\n",
       "        vertical-align: middle;\n",
       "    }\n",
       "\n",
       "    .dataframe tbody tr th {\n",
       "        vertical-align: top;\n",
       "    }\n",
       "\n",
       "    .dataframe thead th {\n",
       "        text-align: right;\n",
       "    }\n",
       "</style>\n",
       "<table border=\"1\" class=\"dataframe\">\n",
       "  <thead>\n",
       "    <tr style=\"text-align: right;\">\n",
       "      <th></th>\n",
       "      <th>PassengerId</th>\n",
       "      <th>Survived</th>\n",
       "      <th>Pclass</th>\n",
       "      <th>Name</th>\n",
       "      <th>Sex</th>\n",
       "      <th>Age</th>\n",
       "      <th>SibSp</th>\n",
       "      <th>Parch</th>\n",
       "      <th>Ticket</th>\n",
       "      <th>Fare</th>\n",
       "      <th>Cabin</th>\n",
       "      <th>Embarked</th>\n",
       "    </tr>\n",
       "  </thead>\n",
       "  <tbody>\n",
       "    <tr>\n",
       "      <th>count</th>\n",
       "      <td>891.000000</td>\n",
       "      <td>891.000000</td>\n",
       "      <td>891.000000</td>\n",
       "      <td>891</td>\n",
       "      <td>891</td>\n",
       "      <td>891.000000</td>\n",
       "      <td>891.000000</td>\n",
       "      <td>891.000000</td>\n",
       "      <td>891</td>\n",
       "      <td>891.000000</td>\n",
       "      <td>891</td>\n",
       "      <td>891</td>\n",
       "    </tr>\n",
       "    <tr>\n",
       "      <th>unique</th>\n",
       "      <td>NaN</td>\n",
       "      <td>NaN</td>\n",
       "      <td>NaN</td>\n",
       "      <td>891</td>\n",
       "      <td>2</td>\n",
       "      <td>NaN</td>\n",
       "      <td>NaN</td>\n",
       "      <td>NaN</td>\n",
       "      <td>681</td>\n",
       "      <td>NaN</td>\n",
       "      <td>148</td>\n",
       "      <td>4</td>\n",
       "    </tr>\n",
       "    <tr>\n",
       "      <th>top</th>\n",
       "      <td>NaN</td>\n",
       "      <td>NaN</td>\n",
       "      <td>NaN</td>\n",
       "      <td>Masselmani, Mrs. Fatima</td>\n",
       "      <td>male</td>\n",
       "      <td>NaN</td>\n",
       "      <td>NaN</td>\n",
       "      <td>NaN</td>\n",
       "      <td>1601</td>\n",
       "      <td>NaN</td>\n",
       "      <td>NA</td>\n",
       "      <td>S</td>\n",
       "    </tr>\n",
       "    <tr>\n",
       "      <th>freq</th>\n",
       "      <td>NaN</td>\n",
       "      <td>NaN</td>\n",
       "      <td>NaN</td>\n",
       "      <td>1</td>\n",
       "      <td>577</td>\n",
       "      <td>NaN</td>\n",
       "      <td>NaN</td>\n",
       "      <td>NaN</td>\n",
       "      <td>7</td>\n",
       "      <td>NaN</td>\n",
       "      <td>687</td>\n",
       "      <td>644</td>\n",
       "    </tr>\n",
       "    <tr>\n",
       "      <th>mean</th>\n",
       "      <td>446.000000</td>\n",
       "      <td>0.383838</td>\n",
       "      <td>2.308642</td>\n",
       "      <td>NaN</td>\n",
       "      <td>NaN</td>\n",
       "      <td>29.699118</td>\n",
       "      <td>0.523008</td>\n",
       "      <td>0.381594</td>\n",
       "      <td>NaN</td>\n",
       "      <td>32.204208</td>\n",
       "      <td>NaN</td>\n",
       "      <td>NaN</td>\n",
       "    </tr>\n",
       "    <tr>\n",
       "      <th>std</th>\n",
       "      <td>257.353842</td>\n",
       "      <td>0.486592</td>\n",
       "      <td>0.836071</td>\n",
       "      <td>NaN</td>\n",
       "      <td>NaN</td>\n",
       "      <td>13.002015</td>\n",
       "      <td>1.102743</td>\n",
       "      <td>0.806057</td>\n",
       "      <td>NaN</td>\n",
       "      <td>49.693429</td>\n",
       "      <td>NaN</td>\n",
       "      <td>NaN</td>\n",
       "    </tr>\n",
       "    <tr>\n",
       "      <th>min</th>\n",
       "      <td>1.000000</td>\n",
       "      <td>0.000000</td>\n",
       "      <td>1.000000</td>\n",
       "      <td>NaN</td>\n",
       "      <td>NaN</td>\n",
       "      <td>0.420000</td>\n",
       "      <td>0.000000</td>\n",
       "      <td>0.000000</td>\n",
       "      <td>NaN</td>\n",
       "      <td>0.000000</td>\n",
       "      <td>NaN</td>\n",
       "      <td>NaN</td>\n",
       "    </tr>\n",
       "    <tr>\n",
       "      <th>25%</th>\n",
       "      <td>223.500000</td>\n",
       "      <td>0.000000</td>\n",
       "      <td>2.000000</td>\n",
       "      <td>NaN</td>\n",
       "      <td>NaN</td>\n",
       "      <td>22.000000</td>\n",
       "      <td>0.000000</td>\n",
       "      <td>0.000000</td>\n",
       "      <td>NaN</td>\n",
       "      <td>7.910400</td>\n",
       "      <td>NaN</td>\n",
       "      <td>NaN</td>\n",
       "    </tr>\n",
       "    <tr>\n",
       "      <th>50%</th>\n",
       "      <td>446.000000</td>\n",
       "      <td>0.000000</td>\n",
       "      <td>3.000000</td>\n",
       "      <td>NaN</td>\n",
       "      <td>NaN</td>\n",
       "      <td>29.699118</td>\n",
       "      <td>0.000000</td>\n",
       "      <td>0.000000</td>\n",
       "      <td>NaN</td>\n",
       "      <td>14.454200</td>\n",
       "      <td>NaN</td>\n",
       "      <td>NaN</td>\n",
       "    </tr>\n",
       "    <tr>\n",
       "      <th>75%</th>\n",
       "      <td>668.500000</td>\n",
       "      <td>1.000000</td>\n",
       "      <td>3.000000</td>\n",
       "      <td>NaN</td>\n",
       "      <td>NaN</td>\n",
       "      <td>35.000000</td>\n",
       "      <td>1.000000</td>\n",
       "      <td>0.000000</td>\n",
       "      <td>NaN</td>\n",
       "      <td>31.000000</td>\n",
       "      <td>NaN</td>\n",
       "      <td>NaN</td>\n",
       "    </tr>\n",
       "    <tr>\n",
       "      <th>max</th>\n",
       "      <td>891.000000</td>\n",
       "      <td>1.000000</td>\n",
       "      <td>3.000000</td>\n",
       "      <td>NaN</td>\n",
       "      <td>NaN</td>\n",
       "      <td>80.000000</td>\n",
       "      <td>8.000000</td>\n",
       "      <td>6.000000</td>\n",
       "      <td>NaN</td>\n",
       "      <td>512.329200</td>\n",
       "      <td>NaN</td>\n",
       "      <td>NaN</td>\n",
       "    </tr>\n",
       "  </tbody>\n",
       "</table>\n",
       "</div>"
      ],
      "text/plain": [
       "        PassengerId    Survived      Pclass                     Name   Sex  \\\n",
       "count    891.000000  891.000000  891.000000                      891   891   \n",
       "unique          NaN         NaN         NaN                      891     2   \n",
       "top             NaN         NaN         NaN  Masselmani, Mrs. Fatima  male   \n",
       "freq            NaN         NaN         NaN                        1   577   \n",
       "mean     446.000000    0.383838    2.308642                      NaN   NaN   \n",
       "std      257.353842    0.486592    0.836071                      NaN   NaN   \n",
       "min        1.000000    0.000000    1.000000                      NaN   NaN   \n",
       "25%      223.500000    0.000000    2.000000                      NaN   NaN   \n",
       "50%      446.000000    0.000000    3.000000                      NaN   NaN   \n",
       "75%      668.500000    1.000000    3.000000                      NaN   NaN   \n",
       "max      891.000000    1.000000    3.000000                      NaN   NaN   \n",
       "\n",
       "               Age       SibSp       Parch Ticket        Fare Cabin Embarked  \n",
       "count   891.000000  891.000000  891.000000    891  891.000000   891      891  \n",
       "unique         NaN         NaN         NaN    681         NaN   148        4  \n",
       "top            NaN         NaN         NaN   1601         NaN    NA        S  \n",
       "freq           NaN         NaN         NaN      7         NaN   687      644  \n",
       "mean     29.699118    0.523008    0.381594    NaN   32.204208   NaN      NaN  \n",
       "std      13.002015    1.102743    0.806057    NaN   49.693429   NaN      NaN  \n",
       "min       0.420000    0.000000    0.000000    NaN    0.000000   NaN      NaN  \n",
       "25%      22.000000    0.000000    0.000000    NaN    7.910400   NaN      NaN  \n",
       "50%      29.699118    0.000000    0.000000    NaN   14.454200   NaN      NaN  \n",
       "75%      35.000000    1.000000    0.000000    NaN   31.000000   NaN      NaN  \n",
       "max      80.000000    8.000000    6.000000    NaN  512.329200   NaN      NaN  "
      ]
     },
     "execution_count": 43,
     "metadata": {},
     "output_type": "execute_result"
    }
   ],
   "source": [
    "titanic.describe(include='all')"
   ]
  },
  {
   "cell_type": "markdown",
   "metadata": {},
   "source": [
    "# Inicio da análise"
   ]
  },
  {
   "cell_type": "markdown",
   "metadata": {},
   "source": [
    "A intenção desta análise é entender qual ou quais os fatores ou combinações que contribuíram para a sobrevivência da tragédia. A partir algumas perguntas que podem fornecer alguns são indicios são:\n",
    "\n",
    "Proporcionalmente, havia mais homens ou mulheres que sobreviveram?\n",
    "A idade do passageiro teve influência na sua taxa de sobrevivência?\n",
    "A quantidade de passageiros com esposas e/ou filhos indica uma taxa de sobrevivência mais alta?\n",
    "É possível ver alguma relação com a sobrevivência ao observar as diferenças entre os genêros?\n",
    "Havia alguma relação entre a classe em que você estava viajando e as chances de sobrevivência da tragédia?\n",
    "Houve uma proporção masculina / feminina diferente nas diferentes classes? Isso afetou suas chances de sobrevivência?\n",
    "\n",
    "O projeto se concentrará em responder a todas essas perguntas, mas sempre através das lentes dos fatores que contribuíram para a sobrevivência da tragédia."
   ]
  },
  {
   "cell_type": "code",
   "execution_count": 44,
   "metadata": {},
   "outputs": [
    {
     "data": {
      "text/plain": [
       "0    549\n",
       "1    342\n",
       "Name: Survived, dtype: int64"
      ]
     },
     "execution_count": 44,
     "metadata": {},
     "output_type": "execute_result"
    }
   ],
   "source": [
    "titanic['Survived'].value_counts()"
   ]
  },
  {
   "cell_type": "markdown",
   "metadata": {},
   "source": [
    "Se olharmos apenas para os passageiros, havia aproximadamente 1300 saindo com o navio e 812 mortos, deixando a taxa de sobrevivência de passageiros em um nível de 38%, o que é exatamente a mesma da nossa amostra - 38%. Assim, a expectativa é que a nossa amostra seja fiel ao total."
   ]
  },
  {
   "cell_type": "markdown",
   "metadata": {},
   "source": [
    "# Limpeza dos dados"
   ]
  },
  {
   "cell_type": "markdown",
   "metadata": {},
   "source": [
    "Antes de mergulhar nas questões, o conjunto de dados será analisado para identificar anomalias relacionadas à validade, exatidão ou integridade dos dados e, se possível, corrigir tais problemas."
   ]
  },
  {
   "cell_type": "code",
   "execution_count": 114,
   "metadata": {},
   "outputs": [
    {
     "data": {
      "text/plain": [
       "Age         19.865320\n",
       "Cabin       77.104377\n",
       "Embarked     0.224467\n",
       "dtype: float64"
      ]
     },
     "execution_count": 114,
     "metadata": {},
     "output_type": "execute_result"
    }
   ],
   "source": [
    "# Revela quais colunas tem células vazias\n",
    "titanic.isna().sum()[titanic.isna().sum() != 0]/titanic.shape[0] * 100"
   ]
  },
  {
   "cell_type": "markdown",
   "metadata": {},
   "source": [
    "Ao analisar os valores faltantes de coluna, a cabine é o que apresenta o maior indice com 77% das observações em falta."
   ]
  },
  {
   "cell_type": "code",
   "execution_count": 6,
   "metadata": {},
   "outputs": [],
   "source": [
    "#Para preencher as células vazias, substituimos todas pela idade média de todos os passageiros.\n",
    "titanic['Age'].fillna(titanic['Age'].mean(), inplace=True)"
   ]
  },
  {
   "cell_type": "code",
   "execution_count": 7,
   "metadata": {},
   "outputs": [],
   "source": [
    "# substituir as células vazias por NA\n",
    "titanic['Embarked'].fillna(value='NA', inplace=True)"
   ]
  },
  {
   "cell_type": "code",
   "execution_count": 8,
   "metadata": {},
   "outputs": [],
   "source": [
    "# substituir as células vazias por NA\n",
    "titanic['Cabin'].fillna(value='NA', inplace=True)"
   ]
  },
  {
   "cell_type": "code",
   "execution_count": 119,
   "metadata": {},
   "outputs": [
    {
     "data": {
      "text/plain": [
       "Series([], dtype: float64)"
      ]
     },
     "execution_count": 119,
     "metadata": {},
     "output_type": "execute_result"
    }
   ],
   "source": [
    "# conferindo se todos os valores faltantes foram eliminados\n",
    "titanic.isna().sum()[titanc.isna().sum() != 0]/titanic.shape[0] * 100"
   ]
  },
  {
   "cell_type": "markdown",
   "metadata": {},
   "source": [
    "Pronto agora a base de dados está completa."
   ]
  },
  {
   "cell_type": "code",
   "execution_count": 76,
   "metadata": {},
   "outputs": [
    {
     "data": {
      "text/plain": [
       "NA                 687\n",
       "G6                   4\n",
       "C23 C25 C27          4\n",
       "B96 B98              4\n",
       "D                    3\n",
       "C22 C26              3\n",
       "F2                   3\n",
       "E101                 3\n",
       "F33                  3\n",
       "E8                   2\n",
       "C123                 2\n",
       "B5                   2\n",
       "B20                  2\n",
       "D26                  2\n",
       "E33                  2\n",
       "C78                  2\n",
       "B77                  2\n",
       "D33                  2\n",
       "C92                  2\n",
       "D20                  2\n",
       "E121                 2\n",
       "B58 B60              2\n",
       "C52                  2\n",
       "E44                  2\n",
       "B49                  2\n",
       "B57 B59 B63 B66      2\n",
       "F4                   2\n",
       "F G73                2\n",
       "E67                  2\n",
       "B35                  2\n",
       "                  ... \n",
       "E46                  1\n",
       "A24                  1\n",
       "E36                  1\n",
       "C128                 1\n",
       "F G63                1\n",
       "B19                  1\n",
       "C54                  1\n",
       "D46                  1\n",
       "C111                 1\n",
       "C45                  1\n",
       "B101                 1\n",
       "E38                  1\n",
       "A32                  1\n",
       "D21                  1\n",
       "A26                  1\n",
       "C99                  1\n",
       "B4                   1\n",
       "B41                  1\n",
       "D10 D12              1\n",
       "A20                  1\n",
       "D48                  1\n",
       "B80                  1\n",
       "C87                  1\n",
       "A36                  1\n",
       "D15                  1\n",
       "C148                 1\n",
       "C118                 1\n",
       "B69                  1\n",
       "A7                   1\n",
       "B38                  1\n",
       "Name: Cabin, Length: 148, dtype: int64"
      ]
     },
     "execution_count": 76,
     "metadata": {},
     "output_type": "execute_result"
    }
   ],
   "source": [
    "# conferindo a quantidade de valores únicos em Cabine\n",
    "titanic['Cabin'].value_counts()"
   ]
  },
  {
   "cell_type": "markdown",
   "metadata": {},
   "source": [
    "A contagem de células similares em Cabin revela que os existe uma pluralidade de valores únicos, e ainda sim 77% do volume das informações estavam vazias, neste caso ainda não é possível tirar alguma conclusão sobre a influência desta variável na taxa de sobrevivência."
   ]
  },
  {
   "cell_type": "markdown",
   "metadata": {},
   "source": [
    "# Local de embarque dos passageiros"
   ]
  },
  {
   "cell_type": "code",
   "execution_count": 29,
   "metadata": {},
   "outputs": [
    {
     "data": {
      "image/png": "[encoded data removed]",
      "text/plain": [
       "<Figure size 432x288 with 1 Axes>"
      ]
     },
     "metadata": {},
     "output_type": "display_data"
    }
   ],
   "source": [
    "# Composição do gráfico em barras dos sobreviventes por local de embarque\n",
    "titanic[['Survived']].groupby([titanic['Embarked']]).mean().plot.bar()\n",
    "plt.title('Média de sobreviventes por local de embarque')\n",
    "plt.xlabel('Local de embarque')\n",
    "plt.ylabel('Sobreviventes')\n",
    "plt.show()"
   ]
  },
  {
   "cell_type": "markdown",
   "metadata": {},
   "source": [
    "É possível observar que os pessoas que embarcaram em Cherbourg tiveram maiores chances de sobreviver, no entanto não há qualquer explicação para o fato."
   ]
  },
  {
   "cell_type": "markdown",
   "metadata": {},
   "source": [
    "# Gênero dos passageiros"
   ]
  },
  {
   "cell_type": "code",
   "execution_count": 42,
   "metadata": {},
   "outputs": [
    {
     "data": {
      "image/png": "[encoded data removed]",
      "text/plain": [
       "<Figure size 432x288 with 1 Axes>"
      ]
     },
     "metadata": {},
     "output_type": "display_data"
    }
   ],
   "source": [
    "titanic[['Survived']].groupby(titanic['Sex']).mean().plot.bar()\n",
    "plt.title('Média de sobreviventes por Gênero')\n",
    "plt.xlabel('Gênero')\n",
    "plt.ylabel('Sobreviventes')\n",
    "plt.show()"
   ]
  },
  {
   "cell_type": "markdown",
   "metadata": {},
   "source": [
    "Ao observamos que a chance das mulheres sobrevivem foi muito superior ao genero masculino, talvez nesse ponto fique evidente a premissa de mulheres e crianças primeiro."
   ]
  },
  {
   "cell_type": "code",
   "execution_count": 70,
   "metadata": {},
   "outputs": [
    {
     "data": {
      "image/png": "[encoded data removed]",
      "text/plain": [
       "<Figure size 1152x432 with 2 Axes>"
      ]
     },
     "metadata": {},
     "output_type": "display_data"
    }
   ],
   "source": [
    "#Avaliar por classe a quantidade de cada gênero e as respectivas chances de sobreviver a tragédia\n",
    "f, (ax1, ax2) = plt.subplots(1, 2, figsize=(16, 6), sharex=True)\n",
    "\n",
    "sns.countplot(x=\"Sex\", hue=\"Pclass\", palette=\"Set1\", data=titanic, ax=ax1)\n",
    "ax1.set_title(\"Distribuição por genêro\")\n",
    "ax1.set_xlabel(\"\")\n",
    "ax1.set_ylabel(\"Número de passageiros\")\n",
    "\n",
    "sns.barplot(x=\"Sex\", y=\"Survived\", hue=\"Pclass\", palette=\"Set1\", data=titanic, ax=ax2)\n",
    "ax2.set_title(\"Chances de sobreviver, por classe e gênero\")\n",
    "ax2.set_xlabel(\"\")\n",
    "ax2.set_ylabel(\"Percentual de sobreviventes\")\n",
    "\n",
    "plt.show()"
   ]
  },
  {
   "cell_type": "markdown",
   "metadata": {},
   "source": [
    "Não apenas ser uma mulher afetou suas chances de sobrevivência, mas, acima de tudo, como uma mulher que você estava viajando na 1ª ou na 2ª classe, você estava quase garantido para passar. Mas ser um homem tornou as coisas ainda piores: apesar das chances de sobrevivência por estarem na 1ª classe eram mais do que o dobro do que as da 2ª e 3ª, eles ainda eram mais menores do que as mulheres na 3ª classe."
   ]
  },
  {
   "cell_type": "markdown",
   "metadata": {},
   "source": [
    "# Idade dos passageiros"
   ]
  },
  {
   "cell_type": "code",
   "execution_count": 45,
   "metadata": {},
   "outputs": [
    {
     "data": {
      "image/png": "[encoded data removed]",
      "text/plain": [
       "<Figure size 432x288 with 2 Axes>"
      ]
     },
     "metadata": {},
     "output_type": "display_data"
    }
   ],
   "source": [
    "#Avaliar por idade a quantidade de cada gênero e as respectivas chances de sobreviver a tragédia\n",
    "\n",
    "bins=[b for b in range(0, 91, 5)]\n",
    "fig = plt.figure()\n",
    "# ax0 = plt.subplot2grid((1, 2), (0, 0), colspan=2)\n",
    "# plt.title(\"Age Histogram\")\n",
    "\n",
    "ax1 = plt.subplot2grid((1, 2), (0, 0))\n",
    "titanic['Age'][titanic['Survived'] == 1].hist(bins=bins, color='g')\n",
    "plt.title(\"SOBREVIVENTES\")\n",
    "ax2 = plt.subplot2grid((1, 2), (0, 1), sharey=ax1)\n",
    "titanic['Age'][titanic['Survived'] == 0].hist(bins=bins, color='r')\n",
    "plt.title(\"FALECIDOS\")\n",
    "plt.tight_layout()\n",
    "plt.show()"
   ]
  },
  {
   "cell_type": "markdown",
   "metadata": {},
   "source": [
    "Uma diferença notável entre os grupos de faixa etária entre os passageiros sobreviventes e falecidos, é fato que as crianças pequenas tinham maior probabilidade de sobreviver."
   ]
  },
  {
   "cell_type": "markdown",
   "metadata": {},
   "source": [
    "# Classe dos passageiros"
   ]
  },
  {
   "cell_type": "code",
   "execution_count": 27,
   "metadata": {},
   "outputs": [
    {
     "data": {
      "image/png": "[encoded data removed]",
      "text/plain": [
       "<Figure size 432x288 with 1 Axes>"
      ]
     },
     "metadata": {},
     "output_type": "display_data"
    }
   ],
   "source": [
    "titanic[['Survived']].groupby(titanic['Pclass']).mean().plot.bar()\n",
    "plt.title('Média de sobreviventes por classe do bilhete')\n",
    "plt.xlabel('Classe do bilhete')\n",
    "plt.ylabel('Sobreviventes')\n",
    "plt.show()"
   ]
  },
  {
   "cell_type": "markdown",
   "metadata": {},
   "source": [
    "A classe do bilhete, indicando uma condição de classe econômica mas privilegiada e por fim quanto maior a classe, mais próximas as cabines estavam do barco salva-vidas. Sem dúvida um fator importante na sobrevivência, já que podemos observar no gráfico que os que estavam na primeira classe tiveram mais chance de sobreviver."
   ]
  },
  {
   "cell_type": "markdown",
   "metadata": {},
   "source": [
    "# Familía dos passageiros"
   ]
  },
  {
   "cell_type": "code",
   "execution_count": 105,
   "metadata": {},
   "outputs": [
    {
     "data": {
      "text/plain": [
       "0    608\n",
       "1    209\n",
       "2     28\n",
       "4     18\n",
       "3     16\n",
       "8      7\n",
       "5      5\n",
       "Name: SibSp, dtype: int64"
      ]
     },
     "execution_count": 105,
     "metadata": {},
     "output_type": "execute_result"
    }
   ],
   "source": [
    "# Conta valores únicos de parentes por passageiros\n",
    "titanic['SibSp'].value_counts()"
   ]
  },
  {
   "cell_type": "markdown",
   "metadata": {},
   "source": [
    "Definitivamente a maioria dos passageiros não tinham parentes no navio."
   ]
  },
  {
   "cell_type": "code",
   "execution_count": 25,
   "metadata": {
    "scrolled": true
   },
   "outputs": [
    {
     "data": {
      "image/png": "[encoded data removed]",
      "text/plain": [
       "<Figure size 432x288 with 1 Axes>"
      ]
     },
     "metadata": {},
     "output_type": "display_data"
    }
   ],
   "source": [
    "titanic[['Survived']].groupby([titanic['SibSp']]).mean().plot.bar()\n",
    "plt.title('Média de sobreviventes por parentes')\n",
    "plt.xlabel('Quantidade média de parentes por passageiros')\n",
    "plt.ylabel('Sobreviventes')\n",
    "plt.show()"
   ]
  },
  {
   "cell_type": "markdown",
   "metadata": {},
   "source": [
    "É possível ver que aqueles que tinham ao menos 1 parente no navio tinham mais chance de sobreviver."
   ]
  },
  {
   "cell_type": "code",
   "execution_count": 98,
   "metadata": {},
   "outputs": [
    {
     "data": {
      "text/plain": [
       "0    678\n",
       "1    118\n",
       "2     80\n",
       "5      5\n",
       "3      5\n",
       "4      4\n",
       "6      1\n",
       "Name: Parch, dtype: int64"
      ]
     },
     "execution_count": 98,
     "metadata": {},
     "output_type": "execute_result"
    }
   ],
   "source": [
    "# Conta valores únicos de filhos por passageiros\n",
    "titanic['Parch'].value_counts()"
   ]
  },
  {
   "cell_type": "markdown",
   "metadata": {},
   "source": [
    "Definitivamente a maioria não tinha filhos, e como vimos anteriormente ser criança era um fator que aumentava a chances de sobrevivência."
   ]
  },
  {
   "cell_type": "code",
   "execution_count": 24,
   "metadata": {},
   "outputs": [
    {
     "data": {
      "image/png": "[encoded data removed]",
      "text/plain": [
       "<Figure size 432x288 with 1 Axes>"
      ]
     },
     "metadata": {},
     "output_type": "display_data"
    }
   ],
   "source": [
    "titanic[['Survived']].groupby([titanic['Parch']]).mean().plot.bar()\n",
    "plt.title('Média de sobreviventes por filhos no navio')\n",
    "plt.xlabel('Quantidade média de Filhos por passageiros')\n",
    "plt.ylabel('Sobreviventes')\n",
    "plt.show()"
   ]
  },
  {
   "cell_type": "markdown",
   "metadata": {},
   "source": [
    "É difícil ver padrão no gráfico acima. Dado o fato de que ambos se relacionam com o número de membros da família, podemos ver ambos combinados."
   ]
  },
  {
   "cell_type": "code",
   "execution_count": 57,
   "metadata": {},
   "outputs": [
    {
     "data": {
      "image/png": "[encoded data removed]",
      "text/plain": [
       "<Figure size 432x288 with 1 Axes>"
      ]
     },
     "metadata": {},
     "output_type": "display_data"
    }
   ],
   "source": [
    "#Média de sobreviventes segmentado pelo agrupamento de Filhos e Parentes\n",
    "titanic[['Survived']].groupby([titanic['Parch'] + titanic['SibSp']]).mean().plot.bar()\n",
    "plt.xlabel('Quantidade média de Filhos e Parentes')\n",
    "plt.ylabel('Soreviventes')\n",
    "plt.show()"
   ]
  },
  {
   "cell_type": "markdown",
   "metadata": {},
   "source": [
    "Parece que a maioria dos passageiros não tinha membros da família a bordo, quanto aqueles que tinham sobreviveram com maior frequência."
   ]
  },
  {
   "cell_type": "markdown",
   "metadata": {},
   "source": [
    "# Conclusão"
   ]
  },
  {
   "cell_type": "markdown",
   "metadata": {},
   "source": [
    "Em primeiro lugar, o número de passageiros no momento do acidente varia entre 3.327 a 3.547, dependendo das fontes. Portanto, temos dados limitados em mãos e tirar conclusões de um conjunto pequeno pode apontar para causas enganosas.\n",
    "\n",
    "Além disso, nós não temos registros de idade de uma grande parte do conjunto de dados, cuja maioria foi inferida pela média da idade. Apesar de ser um bom indicador, não é tão confiável quanto ter os dados completos e pode ser propenso a erros em nossas conclusões.\n",
    "\n",
    "Alguns dados adicionais também poderiam ter sido úteis para o estudo. Por exemplo, a distância entre a cabine e os barcos salva-vidas é definitivamente um ótimo elo que não conseguimos explorar. Alem do fato de que quase todos os dados de cabine estão faltando (apenas 204 valores não nulos de 891). Relacionado a isso, o deck onde a cabine estava localizada poderia ter sido um uma informação valiosoa que poderíamos ter usado descobrir o quanto a altura influenciava na taxa de sobrevivência.\n",
    "\n",
    "Após passar por alguns dados é possível observar que existem váriaveis que aumentam a chance de sobrevivência entre os passageiros. Entre tudo que foi observado nesta análise posso concluir que as chances aumentavam a medida que: o gênero fosse feminino, ser criança, ter ticket de primeira classe, embarque realizado por Cherbourg e por fim ter membros da familia entre os passageiros."
   ]
  },
  {
   "cell_type": "code",
   "execution_count": null,
   "metadata": {},
   "outputs": [],
   "source": []
  }
 ],
 "metadata": {
  "kernelspec": {
   "display_name": "Python 3",
   "language": "python",
   "name": "python3"
  },
  "language_info": {
   "codemirror_mode": {
    "name": "ipython",
    "version": 3
   },
   "file_extension": ".py",
   "mimetype": "text/x-python",
   "name": "python",
   "nbconvert_exporter": "python",
   "pygments_lexer": "ipython3",
   "version": "3.6.5"
  }
 },
 "nbformat": 4,
 "nbformat_minor": 2
}
